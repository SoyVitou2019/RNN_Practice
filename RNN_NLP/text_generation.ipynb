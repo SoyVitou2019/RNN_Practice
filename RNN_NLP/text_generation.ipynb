{
 "cells": [
  {
   "cell_type": "markdown",
   "metadata": {},
   "source": [
    "### Introduction to Text Generation\n",
    "This notebook explains how we can split a given corpus of data info features and labels and then train a neural network to predict the next word in a sentence\n",
    "\n",
    "1. Create a corpus - break the text down to list of sentences.\n",
    "2. Create a word_index(vocabulary) from the text.\n",
    "3. Tokenize the data and create n-GRAM sequence for each sequence of the corpus\n",
    "4. Pad those sequences.\n",
    "5. Segregate features from the sequences by reserving the last element of the array as labels"
   ]
  },
  {
   "cell_type": "code",
   "execution_count": 1,
   "metadata": {},
   "outputs": [
    {
     "name": "stdout",
     "output_type": "stream",
     "text": [
      "WARNING:tensorflow:From c:\\Users\\soyvi\\AppData\\Local\\Programs\\Python\\Python311\\Lib\\site-packages\\keras\\src\\losses.py:2976: The name tf.losses.sparse_softmax_cross_entropy is deprecated. Please use tf.compat.v1.losses.sparse_softmax_cross_entropy instead.\n",
      "\n"
     ]
    },
    {
     "name": "stderr",
     "output_type": "stream",
     "text": [
      "c:\\Users\\soyvi\\AppData\\Local\\Programs\\Python\\Python311\\Lib\\site-packages\\tqdm\\auto.py:21: TqdmWarning: IProgress not found. Please update jupyter and ipywidgets. See https://ipywidgets.readthedocs.io/en/stable/user_install.html\n",
      "  from .autonotebook import tqdm as notebook_tqdm\n"
     ]
    },
    {
     "name": "stdout",
     "output_type": "stream",
     "text": [
      "2.15.0\n"
     ]
    }
   ],
   "source": [
    "## import the required libraries and APIs\n",
    "import numpy as np\n",
    "import tensorflow as tf\n",
    "import tensorflow_datasets as tfds\n",
    "from tensorflow.keras.preprocessing.text import Tokenizer\n",
    "from tensorflow.keras.preprocessing.sequence import pad_sequences\n",
    "\n",
    "print(tf.__version__)"
   ]
  },
  {
   "cell_type": "markdown",
   "metadata": {},
   "source": [
    "### Step 1: Create a corpus"
   ]
  },
  {
   "cell_type": "code",
   "execution_count": 2,
   "metadata": {},
   "outputs": [],
   "source": [
    "data = \"ince we set return_sequences=True in the LSTM layers, the output is now a three-dimension vector. If we input that into the Dense layer, it will raise an error because the Dense layer only accepts two-dimension input. In order to input a three-dimension vector, we need to use a wrapper layer called TimeDistributed. This layer will help us maintain output’s shape, so that we can achieve a sequence as output in the end.\""
   ]
  },
  {
   "cell_type": "code",
   "execution_count": 4,
   "metadata": {},
   "outputs": [
    {
     "name": "stdout",
     "output_type": "stream",
     "text": [
      "['ince we set return_sequences=true in the lstm layers, the output is now a three-dimension vector', ' if we input that into the dense layer, it will raise an error because the dense layer only accepts two-dimension input', ' in order to input a three-dimension vector, we need to use a wrapper layer called timedistributed', ' this layer will help us maintain output’s shape, so that we can achieve a sequence as output in the end', '']\n"
     ]
    }
   ],
   "source": [
    "## instantiate tokenizer\n",
    "tokenizer = Tokenizer()\n",
    "\n",
    "## create corpus by lowering the letters and splitting the text by \\n\n",
    "corpus = data.lower().split(\".\")\n",
    "print(corpus)"
   ]
  },
  {
   "cell_type": "markdown",
   "metadata": {},
   "source": [
    "### Step 2: Train the tokenizer and create word encoding dictionary"
   ]
  },
  {
   "cell_type": "code",
   "execution_count": 8,
   "metadata": {},
   "outputs": [
    {
     "name": "stdout",
     "output_type": "stream",
     "text": [
      "{'the': 1, 'we': 2, 'a': 3, 'layer': 4, 'in': 5, 'dimension': 6, 'input': 7, 'output': 8, 'three': 9, 'vector': 10, 'that': 11, 'dense': 12, 'will': 13, 'to': 14, 'ince': 15, 'set': 16, 'return': 17, 'sequences': 18, 'true': 19, 'lstm': 20, 'layers': 21, 'is': 22, 'now': 23, 'if': 24, 'into': 25, 'it': 26, 'raise': 27, 'an': 28, 'error': 29, 'because': 30, 'only': 31, 'accepts': 32, 'two': 33, 'order': 34, 'need': 35, 'use': 36, 'wrapper': 37, 'called': 38, 'timedistributed': 39, 'this': 40, 'help': 41, 'us': 42, 'maintain': 43, 'output’s': 44, 'shape': 45, 'so': 46, 'can': 47, 'achieve': 48, 'sequence': 49, 'as': 50, 'end': 51}\n",
      "52\n"
     ]
    }
   ],
   "source": [
    "tokenizer.fit_on_texts(corpus)\n",
    "\n",
    "# calculate vocabulary size + 1 for <oov> token\n",
    "vocab_size = len(tokenizer.word_index) + 1\n",
    "\n",
    "print(tokenizer.word_index)\n",
    "print(vocab_size)"
   ]
  },
  {
   "cell_type": "markdown",
   "metadata": {},
   "source": [
    "### Step 3: Create N-gram sequence"
   ]
  },
  {
   "cell_type": "code",
   "execution_count": 9,
   "metadata": {},
   "outputs": [],
   "source": [
    "## create n-gram sequences of each text sequence\n",
    "input_sequences = []\n",
    "for line in corpus:\n",
    "    tokens = tokenizer.texts_to_sequences([line])[0] # get all the tokens of the sequence\n",
    "    for i in range(1, len(tokens)): # create n-gram sequences\n",
    "        n_gram_sequence = tokens[: i+ 1]\n",
    "        input_sequences.append(n_gram_sequence)"
   ]
  },
  {
   "cell_type": "code",
   "execution_count": null,
   "metadata": {},
   "outputs": [],
   "source": [
    "## pad sequences\n",
    "max_seq_array = max([len(i) for i in input_sequences])\n",
    "input_seq_array = np.array(pad_sequences(input_sequences))"
   ]
  }
 ],
 "metadata": {
  "kernelspec": {
   "display_name": "Python 3",
   "language": "python",
   "name": "python3"
  },
  "language_info": {
   "codemirror_mode": {
    "name": "ipython",
    "version": 3
   },
   "file_extension": ".py",
   "mimetype": "text/x-python",
   "name": "python",
   "nbconvert_exporter": "python",
   "pygments_lexer": "ipython3",
   "version": "3.11.5"
  }
 },
 "nbformat": 4,
 "nbformat_minor": 2
}
