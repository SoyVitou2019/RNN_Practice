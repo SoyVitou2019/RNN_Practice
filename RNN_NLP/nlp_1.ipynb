{
 "cells": [
  {
   "cell_type": "code",
   "execution_count": 109,
   "metadata": {},
   "outputs": [],
   "source": [
    "## import the tensorflow APIs\n",
    "\n",
    "import tensorflow as tf\n",
    "from tensorflow import keras\n",
    "from tensorflow.keras.preprocessing.text import Tokenizer\n",
    "from tensorflow.keras.preprocessing.sequence import pad_sequences"
   ]
  },
  {
   "cell_type": "markdown",
   "metadata": {},
   "source": [
    "Define training sentences"
   ]
  },
  {
   "cell_type": "code",
   "execution_count": 130,
   "metadata": {},
   "outputs": [],
   "source": [
    "## sentences to tokenize\n",
    "train_sentences = [\n",
    "    'It is a sunny day',\n",
    "    'It is a raining day',\n",
    "    'It is a cloudy day! hi'\n",
    "]"
   ]
  },
  {
   "cell_type": "markdown",
   "metadata": {},
   "source": [
    "Set up the tokenizer"
   ]
  },
  {
   "cell_type": "code",
   "execution_count": 131,
   "metadata": {},
   "outputs": [],
   "source": [
    "## instantiate the tokenizer\n",
    "tokenizer = Tokenizer(num_words=20)\n",
    "## train the tokenizer on training sentences\n",
    "tokenizer.fit_on_texts(train_sentences)\n",
    "\n",
    "## store word index for the words in the sentence\n",
    "word_index = tokenizer.word_index"
   ]
  },
  {
   "cell_type": "markdown",
   "metadata": {},
   "source": [
    "WORD INDEX"
   ]
  },
  {
   "cell_type": "code",
   "execution_count": 132,
   "metadata": {},
   "outputs": [
    {
     "name": "stdout",
     "output_type": "stream",
     "text": [
      "{'it': 1, 'is': 2, 'a': 3, 'day': 4, 'sunny': 5, 'raining': 6, 'cloudy': 7, 'hi': 8}\n"
     ]
    }
   ],
   "source": [
    "print(word_index)"
   ]
  },
  {
   "cell_type": "markdown",
   "metadata": {},
   "source": [
    "Create squences"
   ]
  },
  {
   "cell_type": "code",
   "execution_count": 113,
   "metadata": {},
   "outputs": [],
   "source": [
    "### create sequences using tokenizer\n",
    "sequences = tokenizer.texts_to_sequences(train_sentences)"
   ]
  },
  {
   "cell_type": "code",
   "execution_count": 114,
   "metadata": {},
   "outputs": [
    {
     "name": "stdout",
     "output_type": "stream",
     "text": [
      "Word index -> {'it': 1, 'is': 2, 'a': 3, 'day': 4, 'sunny': 5, 'raining': 6, 'cloudy': 7}\n",
      "Sequences of words -> [[1, 2, 3, 5, 4], [1, 2, 3, 6, 4], [1, 2, 3, 7, 4]]\n"
     ]
    }
   ],
   "source": [
    "## print word index dictionary and sequences\n",
    "print(f\"Word index -> {word_index}\")\n",
    "print(f\"Sequences of words -> {sequences}\")"
   ]
  },
  {
   "cell_type": "code",
   "execution_count": 115,
   "metadata": {},
   "outputs": [
    {
     "name": "stdout",
     "output_type": "stream",
     "text": [
      "It is a sunny day\n",
      "[1, 2, 3, 5, 4]\n"
     ]
    }
   ],
   "source": [
    "## print sample sentence and sequence\n",
    "print(train_sentences[0])\n",
    "print(sequences[0])"
   ]
  },
  {
   "cell_type": "markdown",
   "metadata": {},
   "source": [
    "Tokenizing new data using the same tokenizer"
   ]
  },
  {
   "cell_type": "code",
   "execution_count": 116,
   "metadata": {},
   "outputs": [],
   "source": [
    "new_sentences = [\n",
    "    \"Will it be raining today?\",\n",
    "    \"It is a pleasant day.\",\n",
    "    \"Today is a nice day with the blue night!\"\n",
    "]"
   ]
  },
  {
   "cell_type": "code",
   "execution_count": 117,
   "metadata": {},
   "outputs": [],
   "source": [
    "new_sequences = tokenizer.texts_to_sequences(new_sentences)"
   ]
  },
  {
   "cell_type": "code",
   "execution_count": 118,
   "metadata": {},
   "outputs": [
    {
     "name": "stdout",
     "output_type": "stream",
     "text": [
      "['Will it be raining today?', 'It is a pleasant day.', 'Today is a nice day with the blue night!']\n",
      "[[1, 6], [1, 2, 3, 4], [2, 3, 4]]\n"
     ]
    }
   ],
   "source": [
    "print(new_sentences)\n",
    "print(new_sequences)"
   ]
  },
  {
   "cell_type": "markdown",
   "metadata": {},
   "source": [
    "Replacing newly encountered words with special values"
   ]
  },
  {
   "cell_type": "code",
   "execution_count": 126,
   "metadata": {},
   "outputs": [],
   "source": [
    "## set up the tokenizer again with oov_token\n",
    "tokenizer = Tokenizer(num_words=100, oov_token=\"<oov>\")\n",
    "\n",
    "## train the new tokenizer on training sentences\n",
    "tokenizer.fit_on_texts(train_sentences)\n",
    "\n",
    "## store word index for the words in the sentence\n",
    "word_index = tokenizer.word_index"
   ]
  },
  {
   "cell_type": "code",
   "execution_count": 120,
   "metadata": {},
   "outputs": [
    {
     "name": "stdout",
     "output_type": "stream",
     "text": [
      "{'<oov>': 1, 'it': 2, 'is': 3, 'a': 4, 'day': 5, 'sunny': 6, 'raining': 7, 'cloudy': 8}\n",
      "[[1, 2, 1, 7, 1], [2, 3, 4, 1, 5], [1, 3, 4, 1, 5, 1, 1, 1, 1]]\n"
     ]
    }
   ],
   "source": [
    "## create sequences of the new sentences\n",
    "new_sequences = tokenizer.texts_to_sequences(new_sentences)\n",
    "\n",
    "print(word_index)\n",
    "print(new_sequences)"
   ]
  },
  {
   "cell_type": "markdown",
   "metadata": {},
   "source": [
    "Without padding sequences"
   ]
  },
  {
   "cell_type": "code",
   "execution_count": 121,
   "metadata": {},
   "outputs": [
    {
     "name": "stdout",
     "output_type": "stream",
     "text": [
      "[[1, 2, 1, 7, 1], [2, 3, 4, 1, 5], [1, 3, 4, 1, 5, 1, 1, 1, 1]]\n"
     ]
    }
   ],
   "source": [
    "print(new_sequences)"
   ]
  },
  {
   "cell_type": "markdown",
   "metadata": {},
   "source": [
    "Pad Sequences"
   ]
  },
  {
   "cell_type": "code",
   "execution_count": 122,
   "metadata": {},
   "outputs": [
    {
     "name": "stdout",
     "output_type": "stream",
     "text": [
      "[[0 0 0 0 1 2 1 7 1]\n",
      " [0 0 0 0 2 3 4 1 5]\n",
      " [1 3 4 1 5 1 1 1 1]]\n"
     ]
    }
   ],
   "source": [
    "## pad sequences\n",
    "padded_seqs = pad_sequences(new_sequences)\n",
    "print(padded_seqs)"
   ]
  },
  {
   "cell_type": "markdown",
   "metadata": {},
   "source": [
    "Customising your padded sequences with parameters"
   ]
  },
  {
   "cell_type": "code",
   "execution_count": 123,
   "metadata": {},
   "outputs": [],
   "source": [
    "## pad sequences with padding type, max length and truncating parameters\n",
    "padded_seqs_custom = pad_sequences(new_sequences, padding=\"post\", maxlen=7, truncating=\"pre\")"
   ]
  },
  {
   "cell_type": "code",
   "execution_count": 124,
   "metadata": {},
   "outputs": [
    {
     "name": "stdout",
     "output_type": "stream",
     "text": [
      "[[1 2 1 7 1 0 0]\n",
      " [2 3 4 1 5 0 0]\n",
      " [4 1 5 1 1 1 1]]\n"
     ]
    }
   ],
   "source": [
    "print(padded_seqs_custom)"
   ]
  },
  {
   "cell_type": "code",
   "execution_count": null,
   "metadata": {},
   "outputs": [],
   "source": []
  }
 ],
 "metadata": {
  "kernelspec": {
   "display_name": "Python 3",
   "language": "python",
   "name": "python3"
  },
  "language_info": {
   "codemirror_mode": {
    "name": "ipython",
    "version": 3
   },
   "file_extension": ".py",
   "mimetype": "text/x-python",
   "name": "python",
   "nbconvert_exporter": "python",
   "pygments_lexer": "ipython3",
   "version": "3.11.5"
  }
 },
 "nbformat": 4,
 "nbformat_minor": 2
}
